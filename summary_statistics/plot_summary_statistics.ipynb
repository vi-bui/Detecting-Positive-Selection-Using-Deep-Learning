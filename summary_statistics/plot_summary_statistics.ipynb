{
 "cells": [
  {
   "cell_type": "code",
   "execution_count": 1,
   "metadata": {},
   "outputs": [],
   "source": [
    "#Imports\n",
    "import pandas as pd\n",
    "import matplotlib.pyplot as plt\n",
    "import seaborn as sns"
   ]
  },
  {
   "cell_type": "markdown",
   "metadata": {},
   "source": [
    "# Producing boxplots"
   ]
  },
  {
   "cell_type": "markdown",
   "metadata": {},
   "source": [
    "For each class, the CSV files are read, then a class column is added to distinguish between selection and neutral class.\n",
    "A new CSV file is then produced containing the new class column."
   ]
  },
  {
   "cell_type": "code",
   "execution_count": 2,
   "metadata": {},
   "outputs": [],
   "source": [
    "#Import selection csv data\n",
    "data = pd.read_csv('/data/home/bt18241/research-project/ImaGene/first_simulation/cr1/cr1_croms_merged_sel.csv')\n",
    "\n",
    "#create df\n",
    "df = pd.DataFrame(data)\n",
    "df\n",
    "\n",
    "#add class column for selection\n",
    "df[\"class\"] = \"selection\"\n",
    "df\n",
    "\n",
    "# Write it to a new CSV file\n",
    "df.to_csv(\"/data/home/bt18241/research-project/ImaGene/first_simulation/cr1/cr1_merged_selection.csv\", index=False)"
   ]
  },
  {
   "cell_type": "code",
   "execution_count": 3,
   "metadata": {},
   "outputs": [],
   "source": [
    "#Import neutral csv data\n",
    "data2 = pd.read_csv('/data/home/bt18241/research-project/ImaGene/first_simulation/cr1/cr1_croms_merged_neu.csv')\n",
    "\n",
    "#create df\n",
    "df2 = pd.DataFrame(data2)\n",
    "df2\n",
    "\n",
    "\n",
    "#add class column for neutral\n",
    "df2[\"class\"] = \"neutral\"\n",
    "df2\n",
    "\n",
    "# Write it to a new CSV file\n",
    "df2.to_csv(\"/data/home/bt18241/research-project/ImaGene/first_simulation/cr1/cr1_merged_neutral.csv\", index=False)"
   ]
  },
  {
   "cell_type": "markdown",
   "metadata": {},
   "source": [
    "The neutral and selection CSV files are combined together"
   ]
  },
  {
   "cell_type": "code",
   "execution_count": 4,
   "metadata": {},
   "outputs": [],
   "source": [
    "# Read the files into two dataframes with class column.\n",
    "cr1_neutral = pd.read_csv('/data/home/bt18241/research-project/ImaGene/first_simulation/cr1/cr1_merged_neutral.csv')\n",
    "cr1_sel = pd.read_csv('/data/home/bt18241/research-project/ImaGene/first_simulation/cr1/cr1_merged_selection.csv')\n",
    "\n",
    "#Combines neutral and selection dataframes\n",
    "merged = pd.concat([cr1_neutral, cr1_sel])\n",
    "\n",
    "# Write it to a new CSV file\n",
    "merged.to_csv(\"/data/home/bt18241/research-project/ImaGene/first_simulation/cr1/cr1_merged.csv\", index=False)\n",
    "\n"
   ]
  },
  {
   "cell_type": "code",
   "execution_count": 5,
   "metadata": {},
   "outputs": [
    {
     "data": {
      "text/html": [
       "<div>\n",
       "<style scoped>\n",
       "    .dataframe tbody tr th:only-of-type {\n",
       "        vertical-align: middle;\n",
       "    }\n",
       "\n",
       "    .dataframe tbody tr th {\n",
       "        vertical-align: top;\n",
       "    }\n",
       "\n",
       "    .dataframe thead th {\n",
       "        text-align: right;\n",
       "    }\n",
       "</style>\n",
       "<table border=\"1\" class=\"dataframe\">\n",
       "  <thead>\n",
       "    <tr style=\"text-align: right;\">\n",
       "      <th></th>\n",
       "      <th>Mean(MeanPwiseDist)</th>\n",
       "      <th>Tajimas D</th>\n",
       "      <th>H1</th>\n",
       "      <th>H12</th>\n",
       "      <th>H123</th>\n",
       "      <th>H2/H1</th>\n",
       "      <th>Haplotype Diversity</th>\n",
       "      <th>Mean(EHH)</th>\n",
       "      <th>Median(nsl)</th>\n",
       "      <th>class</th>\n",
       "    </tr>\n",
       "  </thead>\n",
       "  <tbody>\n",
       "    <tr>\n",
       "      <th>0</th>\n",
       "      <td>0.177822</td>\n",
       "      <td>0.218104</td>\n",
       "      <td>0.007675</td>\n",
       "      <td>0.008654</td>\n",
       "      <td>0.936224</td>\n",
       "      <td>0.010612</td>\n",
       "      <td>0.996735</td>\n",
       "      <td>0.033990</td>\n",
       "      <td>-1.124265</td>\n",
       "      <td>neutral</td>\n",
       "    </tr>\n",
       "    <tr>\n",
       "      <th>1</th>\n",
       "      <td>0.146327</td>\n",
       "      <td>-0.368378</td>\n",
       "      <td>0.008301</td>\n",
       "      <td>0.009711</td>\n",
       "      <td>0.915094</td>\n",
       "      <td>0.012530</td>\n",
       "      <td>0.996106</td>\n",
       "      <td>0.044502</td>\n",
       "      <td>-1.114743</td>\n",
       "      <td>neutral</td>\n",
       "    </tr>\n",
       "    <tr>\n",
       "      <th>2</th>\n",
       "      <td>0.164716</td>\n",
       "      <td>-0.031718</td>\n",
       "      <td>0.010416</td>\n",
       "      <td>0.013705</td>\n",
       "      <td>0.729323</td>\n",
       "      <td>0.017425</td>\n",
       "      <td>0.993982</td>\n",
       "      <td>0.030823</td>\n",
       "      <td>-1.136968</td>\n",
       "      <td>neutral</td>\n",
       "    </tr>\n",
       "    <tr>\n",
       "      <th>3</th>\n",
       "      <td>0.198158</td>\n",
       "      <td>0.615090</td>\n",
       "      <td>0.007597</td>\n",
       "      <td>0.008693</td>\n",
       "      <td>0.873711</td>\n",
       "      <td>0.010416</td>\n",
       "      <td>0.996814</td>\n",
       "      <td>0.036919</td>\n",
       "      <td>-1.058567</td>\n",
       "      <td>neutral</td>\n",
       "    </tr>\n",
       "    <tr>\n",
       "      <th>4</th>\n",
       "      <td>0.167486</td>\n",
       "      <td>0.021085</td>\n",
       "      <td>0.007362</td>\n",
       "      <td>0.008771</td>\n",
       "      <td>0.904255</td>\n",
       "      <td>0.010651</td>\n",
       "      <td>0.997050</td>\n",
       "      <td>0.029331</td>\n",
       "      <td>-1.124382</td>\n",
       "      <td>neutral</td>\n",
       "    </tr>\n",
       "    <tr>\n",
       "      <th>...</th>\n",
       "      <td>...</td>\n",
       "      <td>...</td>\n",
       "      <td>...</td>\n",
       "      <td>...</td>\n",
       "      <td>...</td>\n",
       "      <td>...</td>\n",
       "      <td>...</td>\n",
       "      <td>...</td>\n",
       "      <td>...</td>\n",
       "      <td>...</td>\n",
       "    </tr>\n",
       "    <tr>\n",
       "      <th>39975</th>\n",
       "      <td>0.226210</td>\n",
       "      <td>1.161813</td>\n",
       "      <td>0.010964</td>\n",
       "      <td>0.014253</td>\n",
       "      <td>0.742857</td>\n",
       "      <td>0.018717</td>\n",
       "      <td>0.993432</td>\n",
       "      <td>0.045458</td>\n",
       "      <td>-1.018420</td>\n",
       "      <td>selection</td>\n",
       "    </tr>\n",
       "    <tr>\n",
       "      <th>39976</th>\n",
       "      <td>0.233668</td>\n",
       "      <td>1.304679</td>\n",
       "      <td>0.011121</td>\n",
       "      <td>0.013862</td>\n",
       "      <td>0.823944</td>\n",
       "      <td>0.018521</td>\n",
       "      <td>0.993274</td>\n",
       "      <td>0.039486</td>\n",
       "      <td>-0.776675</td>\n",
       "      <td>selection</td>\n",
       "    </tr>\n",
       "    <tr>\n",
       "      <th>39977</th>\n",
       "      <td>0.179970</td>\n",
       "      <td>0.293244</td>\n",
       "      <td>0.007557</td>\n",
       "      <td>0.008732</td>\n",
       "      <td>0.906736</td>\n",
       "      <td>0.010455</td>\n",
       "      <td>0.996853</td>\n",
       "      <td>0.021433</td>\n",
       "      <td>-1.109774</td>\n",
       "      <td>selection</td>\n",
       "    </tr>\n",
       "    <tr>\n",
       "      <th>39978</th>\n",
       "      <td>0.183616</td>\n",
       "      <td>0.363420</td>\n",
       "      <td>0.007636</td>\n",
       "      <td>0.009202</td>\n",
       "      <td>0.835897</td>\n",
       "      <td>0.011747</td>\n",
       "      <td>0.996775</td>\n",
       "      <td>0.038917</td>\n",
       "      <td>-1.071187</td>\n",
       "      <td>selection</td>\n",
       "    </tr>\n",
       "    <tr>\n",
       "      <th>39979</th>\n",
       "      <td>0.179857</td>\n",
       "      <td>0.299713</td>\n",
       "      <td>0.010768</td>\n",
       "      <td>0.014292</td>\n",
       "      <td>0.818182</td>\n",
       "      <td>0.019500</td>\n",
       "      <td>0.993628</td>\n",
       "      <td>0.045566</td>\n",
       "      <td>-0.749459</td>\n",
       "      <td>selection</td>\n",
       "    </tr>\n",
       "  </tbody>\n",
       "</table>\n",
       "<p>39980 rows × 10 columns</p>\n",
       "</div>"
      ],
      "text/plain": [
       "       Mean(MeanPwiseDist)  Tajimas D        H1       H12      H123     H2/H1  \\\n",
       "0                 0.177822   0.218104  0.007675  0.008654  0.936224  0.010612   \n",
       "1                 0.146327  -0.368378  0.008301  0.009711  0.915094  0.012530   \n",
       "2                 0.164716  -0.031718  0.010416  0.013705  0.729323  0.017425   \n",
       "3                 0.198158   0.615090  0.007597  0.008693  0.873711  0.010416   \n",
       "4                 0.167486   0.021085  0.007362  0.008771  0.904255  0.010651   \n",
       "...                    ...        ...       ...       ...       ...       ...   \n",
       "39975             0.226210   1.161813  0.010964  0.014253  0.742857  0.018717   \n",
       "39976             0.233668   1.304679  0.011121  0.013862  0.823944  0.018521   \n",
       "39977             0.179970   0.293244  0.007557  0.008732  0.906736  0.010455   \n",
       "39978             0.183616   0.363420  0.007636  0.009202  0.835897  0.011747   \n",
       "39979             0.179857   0.299713  0.010768  0.014292  0.818182  0.019500   \n",
       "\n",
       "       Haplotype Diversity  Mean(EHH)  Median(nsl)      class  \n",
       "0                 0.996735   0.033990    -1.124265    neutral  \n",
       "1                 0.996106   0.044502    -1.114743    neutral  \n",
       "2                 0.993982   0.030823    -1.136968    neutral  \n",
       "3                 0.996814   0.036919    -1.058567    neutral  \n",
       "4                 0.997050   0.029331    -1.124382    neutral  \n",
       "...                    ...        ...          ...        ...  \n",
       "39975             0.993432   0.045458    -1.018420  selection  \n",
       "39976             0.993274   0.039486    -0.776675  selection  \n",
       "39977             0.996853   0.021433    -1.109774  selection  \n",
       "39978             0.996775   0.038917    -1.071187  selection  \n",
       "39979             0.993628   0.045566    -0.749459  selection  \n",
       "\n",
       "[39980 rows x 10 columns]"
      ]
     },
     "execution_count": 5,
     "metadata": {},
     "output_type": "execute_result"
    }
   ],
   "source": [
    "#Import csv data\n",
    "data = pd.read_csv('/data/home/bt18241/research-project/ImaGene/first_simulation/cr1/cr1_merged.csv')\n",
    "\n",
    "#create df\n",
    "merged_df = pd.DataFrame(data)\n",
    "merged_df\n"
   ]
  },
  {
   "cell_type": "markdown",
   "metadata": {},
   "source": [
    "The X-axsis will consist of the summary statistics calculated. "
   ]
  },
  {
   "cell_type": "code",
   "execution_count": 6,
   "metadata": {},
   "outputs": [],
   "source": [
    "#select continuous features and save in own variable\n",
    "\n",
    "MeanPwiseDist= merged_df[\"Mean(MeanPwiseDist)\"]\n",
    "Tajimad =  merged_df[\"Tajimas D\"]\n",
    "H1 = merged_df[\"H1\"]\n",
    "H12 = merged_df[\"H12\"]\n",
    "H123 = merged_df[\"H123\"]\n",
    "H2H1 = merged_df[\"H2/H1\"]\n",
    "HapDiv = merged_df[\"Haplotype Diversity\"]\n",
    "EHH = merged_df[\"Mean(EHH)\"]\n",
    "nsl = merged_df[\"Median(nsl)\"]\n",
    "clss = merged_df[\"class\"]"
   ]
  },
  {
   "cell_type": "markdown",
   "metadata": {},
   "source": [
    "Before plotting the boxplot, the summary statistics need to be scaled first so that they are can be compared. This is achieved by using the _StandardScaler_."
   ]
  },
  {
   "cell_type": "code",
   "execution_count": 10,
   "metadata": {},
   "outputs": [],
   "source": [
    "from sklearn.preprocessing import StandardScaler\n",
    "\n",
    "# retrieve just the numeric input values\n",
    "data = merged_df.values[:,:-1]\n",
    "\n",
    "# perform a robust scaler transform of the dataset\n",
    "#mean of observed values is 0 and the standard deviation is 1\n",
    "trans = StandardScaler()\n",
    "data = trans.fit_transform(data)\n",
    "\n",
    "# convert the array back to a dataframe\n",
    "dataset = pd.DataFrame(data)\n",
    "\n",
    "#defining the columns consisting of the summary statistics\n",
    "dataset.columns =['Mean(MeanPwiseDist)','Tajimas D', \n",
    "            'H1','H12','H123', 'H2/H1', 'Haplotype Diversity', 'Mean(EHH)', 'Median(nsl)']\n",
    "\n",
    "#adding the class column\n",
    "dataset['class'] = merged_df['class'].values\n",
    "\n",
    "dataset\n",
    "dataset.to_csv(\"/data/home/bt18241/research-project/ImaGene/first_simulation/cr1/cr1_scaled_merged.csv\", index=False)\n"
   ]
  },
  {
   "cell_type": "markdown",
   "metadata": {},
   "source": [
    "Produce a boxplot comparing the summary statistics values for neutral vs selection"
   ]
  },
  {
   "cell_type": "code",
   "execution_count": 11,
   "metadata": {},
   "outputs": [
    {
     "data": {
      "image/png": "[encoded data removed]",
      "text/plain": [
       "<Figure size 432x288 with 1 Axes>"
      ]
     },
     "metadata": {
      "needs_background": "light"
     },
     "output_type": "display_data"
    },
    {
     "data": {
      "image/png": "[encoded data removed]",
      "text/plain": [
       "<Figure size 864x648 with 1 Axes>"
      ]
     },
     "metadata": {},
     "output_type": "display_data"
    }
   ],
   "source": [
    "all_labels = pd.DataFrame(data=dataset, columns=['Mean(MeanPwiseDist)','Tajimas D', \n",
    "            'H1','H12','H123', 'H2/H1', 'Haplotype Diversity', 'Mean(EHH)', 'Median(nsl)'])\n",
    "\n",
    "data_long = pd.melt(dataset, id_vars=\"class\")\n",
    "sns.boxplot(x=\"variable\", y=\"value\",hue='class', data=data_long, width=0.6, palette=\"Set2\")\n",
    "\n",
    "plt.xticks(\n",
    "    rotation=45, \n",
    "    horizontalalignment='right',\n",
    "    fontweight='light',\n",
    "    fontsize='x-large'  \n",
    ")\n",
    "plt.show()\n",
    "\n",
    "\n",
    "\n"
   ]
  }
 ],
 "metadata": {
  "kernelspec": {
   "display_name": "imagene_env",
   "language": "python",
   "name": "imagene_env"
  },
  "language_info": {
   "codemirror_mode": {
    "name": "ipython",
    "version": 3
   },
   "file_extension": ".py",
   "mimetype": "text/x-python",
   "name": "python",
   "nbconvert_exporter": "python",
   "pygments_lexer": "ipython3",
   "version": "3.10.4"
  }
 },
 "nbformat": 4,
 "nbformat_minor": 4
}
